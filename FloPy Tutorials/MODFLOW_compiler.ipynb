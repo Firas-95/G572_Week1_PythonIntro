{
 "cells": [
  {
   "cell_type": "markdown",
   "metadata": {
    "collapsed": false,
    "scrolled": true
   },
   "source": [
    "# MODFLOW Compiler"
   ]
  },
  {
   "cell_type": "markdown",
   "metadata": {
    "collapsed": false
   },
   "source": [
    "### You need to import the pymake package and run the following script to compile MODFLOW to run on the cloud.\n",
    "\n",
    "pip3 install --user https://github.com/modflowpy/pymake/zipball/master"
   ]
  },
  {
   "cell_type": "code",
   "execution_count": 8,
   "metadata": {
    "collapsed": false
   },
   "outputs": [
    {
     "name": "stdout",
     "output_type": "stream",
     "text": [
      "Attempting to download the file:\n",
      "    https://water.usgs.gov/ogw/modflow/MODFLOW-2005_v1.12.00/MF2005.1_12u.zip\n",
      " download attempt: 1\n"
     ]
    },
    {
     "name": "stdout",
     "output_type": "stream",
     "text": [
      "   file size: 6,585,179 bytes\n"
     ]
    },
    {
     "name": "stdout",
     "output_type": "stream",
     "text": [
      "     downloaded   204,800 bytes of 6,585,179 bytes (   3.1100%)\n",
      "     downloaded   409,600 bytes of 6,585,179 bytes (   6.2200%)\n",
      "     downloaded   614,400 bytes of 6,585,179 bytes (   9.3300%)\n",
      "     downloaded   819,200 bytes of 6,585,179 bytes (  12.4401%)\n",
      "     downloaded 1,024,000 bytes of 6,585,179 bytes (  15.5501%)\n",
      "     downloaded 1,228,800 bytes of 6,585,179 bytes (  18.6601%)\n",
      "     downloaded 1,433,600 bytes of 6,585,179 bytes (  21.7701%)\n",
      "     downloaded 1,638,400 bytes of 6,585,179 bytes (  24.8801%)\n",
      "     downloaded 1,843,200 bytes of 6,585,179 bytes (  27.9901%)\n",
      "     downloaded 2,048,000 bytes of 6,585,179 bytes (  31.1001%)\n",
      "     downloaded 2,252,800 bytes of 6,585,179 bytes (  34.2102%)\n",
      "     downloaded 2,457,600 bytes of 6,585,179 bytes (  37.3202%)\n",
      "     downloaded 2,662,400 bytes of 6,585,179 bytes (  40.4302%)\n",
      "     downloaded 2,867,200 bytes of 6,585,179 bytes (  43.5402%)\n",
      "     downloaded 3,072,000 bytes of 6,585,179 bytes (  46.6502%)\n",
      "     downloaded 3,276,800 bytes of 6,585,179 bytes (  49.7602%)\n",
      "     downloaded 3,481,600 bytes of 6,585,179 bytes (  52.8702%)\n",
      "     downloaded 3,686,400 bytes of 6,585,179 bytes (  55.9803%)\n",
      "     downloaded 3,891,200 bytes of 6,585,179 bytes (  59.0903%)\n",
      "     downloaded 4,096,000 bytes of 6,585,179 bytes (  62.2003%)\n",
      "     downloaded 4,300,800 bytes of 6,585,179 bytes (  65.3103%)\n",
      "     downloaded 4,505,600 bytes of 6,585,179 bytes (  68.4203%)\n",
      "     downloaded 4,710,400 bytes of 6,585,179 bytes (  71.5303%)\n",
      "     downloaded 4,915,200 bytes of 6,585,179 bytes (  74.6403%)\n",
      "     downloaded 5,120,000 bytes of 6,585,179 bytes (  77.7504%)\n",
      "     downloaded 5,324,800 bytes of 6,585,179 bytes (  80.8604%)\n",
      "     downloaded 5,529,600 bytes of 6,585,179 bytes (  83.9704%)\n",
      "     downloaded 5,734,400 bytes of 6,585,179 bytes (  87.0804%)\n",
      "     downloaded 5,939,200 bytes of 6,585,179 bytes (  90.1904%)\n",
      "     downloaded 6,144,000 bytes of 6,585,179 bytes (  93.3004%)\n",
      "     downloaded 6,348,800 bytes of 6,585,179 bytes (  96.4104%)\n",
      "     downloaded 6,553,600 bytes of 6,585,179 bytes (  99.5205%)\n",
      "     downloaded 6,585,179 bytes of 6,585,179 bytes ( 100.0000%)\n",
      "Extracting the zipfile...\n"
     ]
    },
    {
     "name": "stdout",
     "output_type": "stream",
     "text": [
      "Deleting the zipfile...\n",
      "Done downloading and extracting...\n",
      "\n",
      "\n",
      "source files are in:\n",
      "    MF2005.1_12u/src\n",
      "\n",
      "executable name to be created:\n",
      "    mf2005\n",
      "\n",
      "replacing...\"./src_temp/openspec.inc\"\n",
      "gfortran --help -v\n"
     ]
    },
    {
     "name": "stdout",
     "output_type": "stream",
     "text": [
      "  -ffpe-summary flag available: True\n",
      "gfortran --help -v\n",
      "  -ffpe-trap flag available: True\n",
      "\n",
      "Compiling object files for mf2005...\n",
      "gfortran -O2 -ffpe-summary=overflow -ffpe-trap=overflow,zero,invalid -fbacktrace -I./src_temp -c ./src_temp/gmg7_c_interface.f90 -o ./obj_temp/gmg7_c_interface.o -I./obj_temp -J./mod_temp\n",
      "gfortran -O2 -ffpe-summary=overflow -ffpe-trap=overflow,zero,invalid -fbacktrace -I./src_temp -c ./src_temp/mhc7.f -o ./obj_temp/mhc7.o -I./obj_temp -J./mod_temp\n"
     ]
    },
    {
     "name": "stdout",
     "output_type": "stream",
     "text": [
      "gfortran -O2 -ffpe-summary=overflow -ffpe-trap=overflow,zero,invalid -fbacktrace -I./src_temp -c ./src_temp/gwf2swr7util.f -o ./obj_temp/gwf2swr7util.o -I./obj_temp -J./mod_temp\n"
     ]
    },
    {
     "name": "stdout",
     "output_type": "stream",
     "text": [
      "gfortran -O2 -ffpe-summary=overflow -ffpe-trap=overflow,zero,invalid -fbacktrace -I./src_temp -c ./src_temp/gwflakmodule.f -o ./obj_temp/gwflakmodule.o -I./obj_temp -J./mod_temp\n",
      "gfortran -O2 -ffpe-summary=overflow -ffpe-trap=overflow,zero,invalid -fbacktrace -I./src_temp -c ./src_temp/pcgn_solve2.f90 -o ./obj_temp/pcgn_solve2.o -I./obj_temp -J./mod_temp\n"
     ]
    },
    {
     "name": "stdout",
     "output_type": "stream",
     "text": [
      "gfortran -O2 -ffpe-summary=overflow -ffpe-trap=overflow,zero,invalid -fbacktrace -I./src_temp -c ./src_temp/gwf2bas7.f -o ./obj_temp/gwf2bas7.o -I./obj_temp -J./mod_temp\n"
     ]
    },
    {
     "name": "stdout",
     "output_type": "stream",
     "text": [
      "gfortran -O2 -ffpe-summary=overflow -ffpe-trap=overflow,zero,invalid -fbacktrace -I./src_temp -c ./src_temp/gwf2evt7.f -o ./obj_temp/gwf2evt7.o -I./obj_temp -J./mod_temp\n"
     ]
    },
    {
     "name": "stdout",
     "output_type": "stream",
     "text": [
      "gfortran -O2 -ffpe-summary=overflow -ffpe-trap=overflow,zero,invalid -fbacktrace -I./src_temp -c ./src_temp/gwfuzfmodule.f -o ./obj_temp/gwfuzfmodule.o -I./obj_temp -J./mod_temp\n",
      "gfortran -O2 -ffpe-summary=overflow -ffpe-trap=overflow,zero,invalid -fbacktrace -I./src_temp -c ./src_temp/gwf2bcf7.f -o ./obj_temp/gwf2bcf7.o -I./obj_temp -J./mod_temp\n"
     ]
    },
    {
     "name": "stdout",
     "output_type": "stream",
     "text": [
      "gfortran -O2 -ffpe-summary=overflow -ffpe-trap=overflow,zero,invalid -fbacktrace -I./src_temp -c ./src_temp/gwf2ibs7.f -o ./obj_temp/gwf2ibs7.o -I./obj_temp -J./mod_temp\n"
     ]
    },
    {
     "name": "stdout",
     "output_type": "stream",
     "text": [
      "gfortran -O2 -ffpe-summary=overflow -ffpe-trap=overflow,zero,invalid -fbacktrace -I./src_temp -c ./src_temp/gwf2hfb7.f -o ./obj_temp/gwf2hfb7.o -I./obj_temp -J./mod_temp\n"
     ]
    },
    {
     "name": "stdout",
     "output_type": "stream",
     "text": [
      "gfortran -O2 -ffpe-summary=overflow -ffpe-trap=overflow,zero,invalid -fbacktrace -I./src_temp -c ./src_temp/gwf2ghb7.f -o ./obj_temp/gwf2ghb7.o -I./obj_temp -J./mod_temp\n"
     ]
    },
    {
     "name": "stdout",
     "output_type": "stream",
     "text": [
      "gfortran -O2 -ffpe-summary=overflow -ffpe-trap=overflow,zero,invalid -fbacktrace -I./src_temp -c ./src_temp/gwf2str7.f -o ./obj_temp/gwf2str7.o -I./obj_temp -J./mod_temp\n"
     ]
    },
    {
     "name": "stdout",
     "output_type": "stream",
     "text": [
      "gfortran -O2 -ffpe-summary=overflow -ffpe-trap=overflow,zero,invalid -fbacktrace -I./src_temp -c ./src_temp/gwf2ets7.f -o ./obj_temp/gwf2ets7.o -I./obj_temp -J./mod_temp\n"
     ]
    },
    {
     "name": "stdout",
     "output_type": "stream",
     "text": [
      "gfortran -O2 -ffpe-summary=overflow -ffpe-trap=overflow,zero,invalid -fbacktrace -I./src_temp -c ./src_temp/pcgn2.f90 -o ./obj_temp/pcgn2.o -I./obj_temp -J./mod_temp\n"
     ]
    },
    {
     "name": "stdout",
     "output_type": "stream",
     "text": [
      "gfortran -O2 -ffpe-summary=overflow -ffpe-trap=overflow,zero,invalid -fbacktrace -I./src_temp -c ./src_temp/gwf2wel7.f -o ./obj_temp/gwf2wel7.o -I./obj_temp -J./mod_temp\n"
     ]
    },
    {
     "name": "stdout",
     "output_type": "stream",
     "text": [
      "gfortran -O2 -ffpe-summary=overflow -ffpe-trap=overflow,zero,invalid -fbacktrace -I./src_temp -c ./src_temp/gwf2swt7.f -o ./obj_temp/gwf2swt7.o -I./obj_temp -J./mod_temp\n"
     ]
    },
    {
     "name": "stdout",
     "output_type": "stream",
     "text": [
      "gfortran -O2 -ffpe-summary=overflow -ffpe-trap=overflow,zero,invalid -fbacktrace -I./src_temp -c ./src_temp/de47.f -o ./obj_temp/de47.o -I./obj_temp -J./mod_temp\n"
     ]
    },
    {
     "name": "stdout",
     "output_type": "stream",
     "text": [
      "gfortran -O2 -ffpe-summary=overflow -ffpe-trap=overflow,zero,invalid -fbacktrace -I./src_temp -c ./src_temp/gwf2fhb7.f -o ./obj_temp/gwf2fhb7.o -I./obj_temp -J./mod_temp\n"
     ]
    },
    {
     "name": "stdout",
     "output_type": "stream",
     "text": [
      "gfortran -O2 -ffpe-summary=overflow -ffpe-trap=overflow,zero,invalid -fbacktrace -I./src_temp -c ./src_temp/pcg7.f -o ./obj_temp/pcg7.o -I./obj_temp -J./mod_temp\n"
     ]
    },
    {
     "name": "stdout",
     "output_type": "stream",
     "text": [
      "gfortran -O2 -ffpe-summary=overflow -ffpe-trap=overflow,zero,invalid -fbacktrace -I./src_temp -c ./src_temp/sip7.f -o ./obj_temp/sip7.o -I./obj_temp -J./mod_temp\n"
     ]
    },
    {
     "name": "stdout",
     "output_type": "stream",
     "text": [
      "gfortran -O2 -ffpe-summary=overflow -ffpe-trap=overflow,zero,invalid -fbacktrace -I./src_temp -c ./src_temp/gwf2rch7.f -o ./obj_temp/gwf2rch7.o -I./obj_temp -J./mod_temp\n"
     ]
    },
    {
     "name": "stdout",
     "output_type": "stream",
     "text": [
      "gfortran -O2 -ffpe-summary=overflow -ffpe-trap=overflow,zero,invalid -fbacktrace -I./src_temp -c ./src_temp/gwf2lpf7.f -o ./obj_temp/gwf2lpf7.o -I./obj_temp -J./mod_temp\n"
     ]
    },
    {
     "name": "stdout",
     "output_type": "stream",
     "text": [
      "gfortran -O2 -ffpe-summary=overflow -ffpe-trap=overflow,zero,invalid -fbacktrace -I./src_temp -c ./src_temp/gwf2res7.f -o ./obj_temp/gwf2res7.o -I./obj_temp -J./mod_temp\n"
     ]
    },
    {
     "name": "stdout",
     "output_type": "stream",
     "text": [
      "gfortran -O2 -ffpe-summary=overflow -ffpe-trap=overflow,zero,invalid -fbacktrace -I./src_temp -c ./src_temp/gwf2huf7.f -o ./obj_temp/gwf2huf7.o -I./obj_temp -J./mod_temp\n"
     ]
    },
    {
     "name": "stdout",
     "output_type": "stream",
     "text": [
      "gfortran -O2 -ffpe-summary=overflow -ffpe-trap=overflow,zero,invalid -fbacktrace -I./src_temp -c ./src_temp/gwf2drt7.f -o ./obj_temp/gwf2drt7.o -I./obj_temp -J./mod_temp\n"
     ]
    },
    {
     "name": "stdout",
     "output_type": "stream",
     "text": [
      "gfortran -O2 -ffpe-summary=overflow -ffpe-trap=overflow,zero,invalid -fbacktrace -I./src_temp -c ./src_temp/hufutl7.f -o ./obj_temp/hufutl7.o -I./obj_temp -J./mod_temp\n"
     ]
    },
    {
     "name": "stdout",
     "output_type": "stream",
     "text": [
      "gfortran -O2 -ffpe-summary=overflow -ffpe-trap=overflow,zero,invalid -fbacktrace -I./src_temp -c ./src_temp/gwf2sub7.f -o ./obj_temp/gwf2sub7.o -I./obj_temp -J./mod_temp\n"
     ]
    },
    {
     "name": "stdout",
     "output_type": "stream",
     "text": [
      "gfortran -O2 -ffpe-summary=overflow -ffpe-trap=overflow,zero,invalid -fbacktrace -I./src_temp -c ./src_temp/gwf2riv7.f -o ./obj_temp/gwf2riv7.o -I./obj_temp -J./mod_temp\n"
     ]
    },
    {
     "name": "stdout",
     "output_type": "stream",
     "text": [
      "gfortran -O2 -ffpe-summary=overflow -ffpe-trap=overflow,zero,invalid -fbacktrace -I./src_temp -c ./src_temp/parutl7.f -o ./obj_temp/parutl7.o -I./obj_temp -J./mod_temp\n"
     ]
    },
    {
     "name": "stdout",
     "output_type": "stream",
     "text": [
      "gfortran -O2 -ffpe-summary=overflow -ffpe-trap=overflow,zero,invalid -fbacktrace -I./src_temp -c ./src_temp/utl7.f -o ./obj_temp/utl7.o -I./obj_temp -J./mod_temp\n"
     ]
    },
    {
     "name": "stdout",
     "output_type": "stream",
     "text": [
      "gfortran -O2 -ffpe-summary=overflow -ffpe-trap=overflow,zero,invalid -fbacktrace -I./src_temp -c ./src_temp/gwfsfrmodule.f -o ./obj_temp/gwfsfrmodule.o -I./obj_temp -J./mod_temp\n",
      "gfortran -O2 -ffpe-summary=overflow -ffpe-trap=overflow,zero,invalid -fbacktrace -I./src_temp -c ./src_temp/gmg7.f -o ./obj_temp/gmg7.o -I./obj_temp -J./mod_temp\n"
     ]
    },
    {
     "name": "stdout",
     "output_type": "stream",
     "text": [
      "gfortran -O2 -ffpe-summary=overflow -ffpe-trap=overflow,zero,invalid -fbacktrace -I./src_temp -c ./src_temp/gwf2swi27.f -o ./obj_temp/gwf2swi27.o -I./obj_temp -J./mod_temp\n"
     ]
    },
    {
     "name": "stdout",
     "output_type": "stream",
     "text": [
      "gfortran -O2 -ffpe-summary=overflow -ffpe-trap=overflow,zero,invalid -fbacktrace -I./src_temp -c ./src_temp/gwf2drn7.f -o ./obj_temp/gwf2drn7.o -I./obj_temp -J./mod_temp\n"
     ]
    },
    {
     "name": "stdout",
     "output_type": "stream",
     "text": [
      "gfortran -O2 -ffpe-summary=overflow -ffpe-trap=overflow,zero,invalid -fbacktrace -I./src_temp -c ./src_temp/gwf2chd7.f -o ./obj_temp/gwf2chd7.o -I./obj_temp -J./mod_temp\n"
     ]
    },
    {
     "name": "stdout",
     "output_type": "stream",
     "text": [
      "gfortran -O2 -ffpe-summary=overflow -ffpe-trap=overflow,zero,invalid -fbacktrace -I./src_temp -c ./src_temp/gwf2uzf1.f -o ./obj_temp/gwf2uzf1.o -I./obj_temp -J./mod_temp\n"
     ]
    },
    {
     "name": "stdout",
     "output_type": "stream",
     "text": [
      "gfortran -O2 -ffpe-summary=overflow -ffpe-trap=overflow,zero,invalid -fbacktrace -I./src_temp -c ./src_temp/obs2bas7.f -o ./obj_temp/obs2bas7.o -I./obj_temp -J./mod_temp\n"
     ]
    },
    {
     "name": "stdout",
     "output_type": "stream",
     "text": [
      "gfortran -O2 -ffpe-summary=overflow -ffpe-trap=overflow,zero,invalid -fbacktrace -I./src_temp -c ./src_temp/obs2ghb7.f -o ./obj_temp/obs2ghb7.o -I./obj_temp -J./mod_temp\n"
     ]
    },
    {
     "name": "stdout",
     "output_type": "stream",
     "text": [
      "gfortran -O2 -ffpe-summary=overflow -ffpe-trap=overflow,zero,invalid -fbacktrace -I./src_temp -c ./src_temp/gwf2sfr7.f -o ./obj_temp/gwf2sfr7.o -I./obj_temp -J./mod_temp\n"
     ]
    },
    {
     "name": "stdout",
     "output_type": "stream",
     "text": [
      "gfortran -O2 -ffpe-summary=overflow -ffpe-trap=overflow,zero,invalid -fbacktrace -I./src_temp -c ./src_temp/gwf2mnw27.f -o ./obj_temp/gwf2mnw27.o -I./obj_temp -J./mod_temp\n"
     ]
    },
    {
     "name": "stdout",
     "output_type": "stream",
     "text": [
      "gfortran -O2 -ffpe-summary=overflow -ffpe-trap=overflow,zero,invalid -fbacktrace -I./src_temp -c ./src_temp/mf2005.f -o ./obj_temp/mf2005.o -I./obj_temp -J./mod_temp\n"
     ]
    },
    {
     "name": "stdout",
     "output_type": "stream",
     "text": [
      "gfortran -O2 -ffpe-summary=overflow -ffpe-trap=overflow,zero,invalid -fbacktrace -I./src_temp -c ./src_temp/gwf2hydmod7.f -o ./obj_temp/gwf2hydmod7.o -I./obj_temp -J./mod_temp\n"
     ]
    },
    {
     "name": "stdout",
     "output_type": "stream",
     "text": [
      "gfortran -O2 -ffpe-summary=overflow -ffpe-trap=overflow,zero,invalid -fbacktrace -I./src_temp -c ./src_temp/gwf2mnw17.f -o ./obj_temp/gwf2mnw17.o -I./obj_temp -J./mod_temp\n"
     ]
    },
    {
     "name": "stdout",
     "output_type": "stream",
     "text": [
      "gfortran -O2 -ffpe-summary=overflow -ffpe-trap=overflow,zero,invalid -fbacktrace -I./src_temp -c ./src_temp/gwf2gag7.f -o ./obj_temp/gwf2gag7.o -I./obj_temp -J./mod_temp\n"
     ]
    },
    {
     "name": "stdout",
     "output_type": "stream",
     "text": [
      "gfortran -O2 -ffpe-summary=overflow -ffpe-trap=overflow,zero,invalid -fbacktrace -I./src_temp -c ./src_temp/gwf2lak7.f -o ./obj_temp/gwf2lak7.o -I./obj_temp -J./mod_temp\n"
     ]
    },
    {
     "name": "stdout",
     "output_type": "stream",
     "text": [
      "gfortran -O2 -ffpe-summary=overflow -ffpe-trap=overflow,zero,invalid -fbacktrace -I./src_temp -c ./src_temp/gwf2swr7.f -o ./obj_temp/gwf2swr7.o -I./obj_temp -J./mod_temp\n"
     ]
    },
    {
     "name": "stdout",
     "output_type": "stream",
     "text": [
      "gfortran -O2 -ffpe-summary=overflow -ffpe-trap=overflow,zero,invalid -fbacktrace -I./src_temp -c ./src_temp/obs2riv7.f -o ./obj_temp/obs2riv7.o -I./obj_temp -J./mod_temp\n"
     ]
    },
    {
     "name": "stdout",
     "output_type": "stream",
     "text": [
      "gfortran -O2 -ffpe-summary=overflow -ffpe-trap=overflow,zero,invalid -fbacktrace -I./src_temp -c ./src_temp/obs2drn7.f -o ./obj_temp/obs2drn7.o -I./obj_temp -J./mod_temp\n"
     ]
    },
    {
     "name": "stdout",
     "output_type": "stream",
     "text": [
      "gfortran -O2 -ffpe-summary=overflow -ffpe-trap=overflow,zero,invalid -fbacktrace -I./src_temp -c ./src_temp/obs2str7.f -o ./obj_temp/obs2str7.o -I./obj_temp -J./mod_temp\n"
     ]
    },
    {
     "name": "stdout",
     "output_type": "stream",
     "text": [
      "gfortran -O2 -ffpe-summary=overflow -ffpe-trap=overflow,zero,invalid -fbacktrace -I./src_temp -c ./src_temp/lmt8.f -o ./obj_temp/lmt8.o -I./obj_temp -J./mod_temp\n"
     ]
    },
    {
     "name": "stdout",
     "output_type": "stream",
     "text": [
      "gfortran -O2 -ffpe-summary=overflow -ffpe-trap=overflow,zero,invalid -fbacktrace -I./src_temp -c ./src_temp/gwf2mnw2i7.f -o ./obj_temp/gwf2mnw2i7.o -I./obj_temp -J./mod_temp\n"
     ]
    },
    {
     "name": "stdout",
     "output_type": "stream",
     "text": [
      "gfortran -O2 -ffpe-summary=overflow -ffpe-trap=overflow,zero,invalid -fbacktrace -I./src_temp -c ./src_temp/obs2chd7.f -o ./obj_temp/obs2chd7.o -I./obj_temp -J./mod_temp\n"
     ]
    },
    {
     "name": "stdout",
     "output_type": "stream",
     "text": [
      "gcc -O2 -I./src_temp -c ./src_temp/ccfd.c -o ./obj_temp/ccfd.o\n"
     ]
    },
    {
     "name": "stdout",
     "output_type": "stream",
     "text": [
      "gcc -O2 -I./src_temp -c ./src_temp/r_vector.c -o ./obj_temp/r_vector.o\n"
     ]
    },
    {
     "name": "stdout",
     "output_type": "stream",
     "text": [
      "gcc -O2 -I./src_temp -c ./src_temp/solvers.c -o ./obj_temp/solvers.o\n",
      "gcc -O2 -I./src_temp -c ./src_temp/mf2kgmg.c -o ./obj_temp/mf2kgmg.o\n"
     ]
    },
    {
     "name": "stdout",
     "output_type": "stream",
     "text": [
      "\n",
      "Linking object files to make mf2005...\n",
      "gfortran -O2 -ffpe-summary=overflow -ffpe-trap=overflow,zero,invalid -fbacktrace -o ./mf2005 ./obj_temp/gmg7_c_interface.o ./obj_temp/mhc7.o ./obj_temp/gwf2swr7util.o ./obj_temp/gwflakmodule.o ./obj_temp/pcgn_solve2.o ./obj_temp/gwf2bas7.o ./obj_temp/gwf2evt7.o ./obj_temp/gwfuzfmodule.o ./obj_temp/gwf2bcf7.o ./obj_temp/gwf2ibs7.o ./obj_temp/gwf2hfb7.o ./obj_temp/gwf2ghb7.o ./obj_temp/gwf2str7.o ./obj_temp/gwf2ets7.o ./obj_temp/pcgn2.o ./obj_temp/gwf2wel7.o ./obj_temp/gwf2swt7.o ./obj_temp/de47.o ./obj_temp/gwf2fhb7.o ./obj_temp/pcg7.o ./obj_temp/sip7.o ./obj_temp/gwf2rch7.o ./obj_temp/gwf2lpf7.o ./obj_temp/gwf2res7.o ./obj_temp/gwf2huf7.o ./obj_temp/gwf2drt7.o ./obj_temp/hufutl7.o ./obj_temp/gwf2sub7.o ./obj_temp/gwf2riv7.o ./obj_temp/parutl7.o ./obj_temp/utl7.o ./obj_temp/gwfsfrmodule.o ./obj_temp/gmg7.o ./obj_temp/gwf2swi27.o ./obj_temp/gwf2drn7.o ./obj_temp/gwf2chd7.o ./obj_temp/gwf2uzf1.o ./obj_temp/obs2bas7.o ./obj_temp/obs2ghb7.o ./obj_temp/gwf2sfr7.o ./obj_temp/gwf2mnw27.o ./obj_temp/mf2005.o ./obj_temp/gwf2hydmod7.o ./obj_temp/gwf2mnw17.o ./obj_temp/gwf2gag7.o ./obj_temp/gwf2lak7.o ./obj_temp/gwf2swr7.o ./obj_temp/obs2riv7.o ./obj_temp/obs2drn7.o ./obj_temp/obs2str7.o ./obj_temp/lmt8.o ./obj_temp/gwf2mnw2i7.o ./obj_temp/obs2chd7.o ./obj_temp/ccfd.o ./obj_temp/r_vector.o ./obj_temp/solvers.o ./obj_temp/mf2kgmg.o -lc\n",
      "\n",
      "Cleaning up temporary source, object, and module files...\n"
     ]
    }
   ],
   "source": [
    "from __future__ import print_function\n",
    "import os\n",
    "import shutil\n",
    "import pymake\n",
    "from pymake.download import download_and_unzip\n",
    "\n",
    "\n",
    "def make_mf2005():\n",
    "\n",
    "    # get current directory\n",
    "    dstpth = os.path.join(r\"/home/user/handouts/Week11MODFLOW/modflowdir/\")\n",
    "    if not os.path.exists(dstpth):\n",
    "        os.makedirs(dstpth)\n",
    "    os.chdir(dstpth)\n",
    "\n",
    "    # Download the MODFLOW-2005 distribution\n",
    "    url = \"https://water.usgs.gov/ogw/modflow/MODFLOW-2005_v1.12.00/MF2005.1_12u.zip\"\n",
    "    download_and_unzip(url)\n",
    "\n",
    "    # Set dir name\n",
    "    dirname = 'MF2005.1_12u'\n",
    "    srcdir = os.path.join(dirname, 'src')\n",
    "\n",
    "    # make single precision version\n",
    "    target = 'mf2005'\n",
    "    pymake.main(srcdir, target)\n",
    "\n",
    "    assert os.path.isfile(target), 'Target does not exist.'\n",
    "\n",
    "    # Clean up downloaded directory\n",
    "    if os.path.isdir(dirname):\n",
    "        shutil.rmtree(dirname)\n",
    "\n",
    "if __name__ == \"__main__\":\n",
    "    make_mf2005()"
   ]
  },
  {
   "cell_type": "code",
   "execution_count": 0,
   "metadata": {
    "collapsed": false
   },
   "outputs": [
   ],
   "source": [
   ]
  }
 ],
 "metadata": {
  "kernelspec": {
   "display_name": "Python 3 (Ubuntu Linux)",
   "language": "python",
   "metadata": {
    "cocalc": {
     "description": "Python 3 programming language",
     "priority": 100,
     "url": "https://www.python.org/"
    }
   },
   "name": "python3"
  },
  "language_info": {
   "codemirror_mode": {
    "name": "ipython",
    "version": 3
   },
   "file_extension": ".py",
   "mimetype": "text/x-python",
   "name": "python",
   "nbconvert_exporter": "python",
   "pygments_lexer": "ipython3",
   "version": "3.6.7"
  }
 },
 "nbformat": 4,
 "nbformat_minor": 0
}