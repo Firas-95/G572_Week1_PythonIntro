{
  "nbformat": 4,
  "nbformat_minor": 0,
  "metadata": {
    "kernelspec": {
      "display_name": "Python 3 (system-wide)",
      "language": "python",
      "metadata": {
        "cocalc": {
          "description": "Python 3 programming language",
          "priority": 100,
          "url": "https://www.python.org/"
        }
      },
      "name": "python3"
    },
    "language_info": {
      "codemirror_mode": {
        "name": "ipython",
        "version": 3
      },
      "file_extension": ".py",
      "mimetype": "text/x-python",
      "name": "python",
      "nbconvert_exporter": "python",
      "pygments_lexer": "ipython3",
      "version": "3.6.8"
    },
    "colab": {
      "name": "Prob Set 3 Key.ipynb",
      "provenance": [],
      "collapsed_sections": [],
      "toc_visible": true,
      "include_colab_link": true
    }
  },
  "cells": [
    {
      "cell_type": "markdown",
      "metadata": {
        "id": "view-in-github",
        "colab_type": "text"
      },
      "source": [
        "<a href=\"https://colab.research.google.com/github/dbabrams/applied_hydro/blob/master/Prob_Set_3_Key.ipynb\" target=\"_parent\"><img src=\"https://colab.research.google.com/assets/colab-badge.svg\" alt=\"Open In Colab\"/></a>"
      ]
    },
    {
      "cell_type": "markdown",
      "metadata": {
        "collapsed": false,
        "id": "LiOsz_tmTw-4",
        "colab_type": "text"
      },
      "source": [
        "# <center>Aquifer Test Analysis for Okawville #4"
      ]
    },
    {
      "cell_type": "markdown",
      "metadata": {
        "collapsed": false,
        "id": "jBS9t-vUTw-5",
        "colab_type": "text"
      },
      "source": [
        "## <center>Part I: Background Information About Okawville\n",
        "\n",
        "In late 1980s the Village of Okawville, Illinois experienced a large increase in the concentrations of chloride, hardness, and sulfate in supply well `#4`, one of two principal supply wells for the community. A subsequent investigation found that the aquifer was contaminated by brines spilled at the surface from oil drilling operations.  A resistivity survey was conducted by the Illinois State Geological Survey to determine the extent of the brine contamination.  The village wells are constructed in an alluvial sand aquifer that occupies the flood plain of modern Kaskaskia River valley. The existing wells are 500 feet from the valley wall which acts as a flow barrier.\n",
        "\n"
      ]
    },
    {
      "cell_type": "markdown",
      "metadata": {
        "collapsed": false,
        "id": "4XdNT3JoTw-5",
        "colab_type": "text"
      },
      "source": [
        "In search of uncontaminated water, the Village drilled a test well two miles to the west at a new well site. The Illinois State Water Survey then conducted an aquifer test to determine aquifer properties. The results of this analysis are shown below."
      ]
    },
    {
      "cell_type": "markdown",
      "metadata": {
        "collapsed": false,
        "id": "khi_5CkdTw_A",
        "colab_type": "text"
      },
      "source": [
        "## <center>Part II: Import Python Packages"
      ]
    },
    {
      "cell_type": "markdown",
      "metadata": {
        "collapsed": false,
        "id": "XyV1Wf2CTw_B",
        "colab_type": "text"
      },
      "source": [
        "This analysis was conducted using Python the following Python packages. Details of the packages are commented below."
      ]
    },
    {
      "cell_type": "code",
      "metadata": {
        "id": "7nPAougfTw_C",
        "colab_type": "code",
        "colab": {}
      },
      "source": [
        "import pandas as pd\n",
        "import matplotlib.pyplot as plt\n",
        "import numpy as np\n",
        "import scipy.optimize as spo\n",
        "import scipy.special as sps\n",
        "\n",
        "# howdy doody\n"
      ],
      "execution_count": 0,
      "outputs": []
    },
    {
      "cell_type": "markdown",
      "metadata": {
        "collapsed": false,
        "id": "b9u5wd_uTw_E",
        "colab_type": "text"
      },
      "source": [
        "## <center>Part III: Import and plot the data"
      ]
    },
    {
      "cell_type": "code",
      "metadata": {
        "scrolled": true,
        "id": "U_zp1SD4Tw_F",
        "colab_type": "code",
        "outputId": "b252f312-c1a3-4aa4-bced-edae263611a6",
        "colab": {
          "base_uri": "https://localhost:8080/",
          "height": 286
        }
      },
      "source": [
        "df_dd = pd.read_excel('/content/drive/My Drive/trail_by_fire/Okawville_MW_AquiferTest.xlsx', index_col=0)\n",
        "plt.semilogx(df_dd)"
      ],
      "execution_count": 0,
      "outputs": [
        {
          "output_type": "execute_result",
          "data": {
            "text/plain": [
              "[<matplotlib.lines.Line2D at 0x7f5d42ad4cc0>]"
            ]
          },
          "metadata": {
            "tags": []
          },
          "execution_count": 11
        },
        {
          "output_type": "display_data",
          "data": {
            "image/png": "[encoded data removed]",
            "text/plain": [
              "<Figure size 432x288 with 1 Axes>"
            ]
          },
          "metadata": {
            "tags": []
          }
        }
      ]
    },
    {
      "cell_type": "markdown",
      "metadata": {
        "collapsed": false,
        "id": "8b_6NCOrTw_H",
        "colab_type": "text"
      },
      "source": [
        "## <center>Part IV: Jacob Straight Line Method"
      ]
    },
    {
      "cell_type": "code",
      "metadata": {
        "id": "ar6bwGd8Tw_I",
        "colab_type": "code",
        "outputId": "7cb3d156-5e38-4d2f-9d33-02a0f9a2b7f2",
        "colab": {
          "base_uri": "https://localhost:8080/",
          "height": 340
        }
      },
      "source": [
        "dd = df_dd.dtw[5:-5]\n",
        "\n",
        "def log_line(x, a, b):\n",
        "    return a + b*np.log10(x)\n",
        "\n",
        "# curve_fit(user defined equation, x variable, y variable, convergence criteria)\n",
        "# popt is an array with the first value being the y-intersect and the second value being the slope of the line\n",
        "# pcov is the covariance of popt. We will not be using that.\n",
        "popt, pcov = spo.curve_fit(log_line, dd.index, dd, p0=(1, 1))\n",
        "\n",
        "xx = [value for value in range(1,151)]\n",
        "yy = log_line(xx, popt[0], popt[1])\n",
        "\n",
        "plt.semilogx(dd,'o', xx, yy)\n",
        "plt.ylim([0,1])\n",
        "\n",
        "\n",
        "a = popt[0]\n",
        "b = popt[1]\n",
        "print(a)\n",
        "print(b)\n",
        "xint = 10**(-a/b)\n",
        "\n",
        "T = 2.3*5.35/(4*3.14*(0.46))\n",
        "S = 2.25*T*3.1/30/30\n",
        "# do not print T or S beyond three significant figures\n",
        "print('The Jacob Straight Line Method indicates that T is',T,'ft^2/min and S is',S,'.')\n",
        "print('The Jacob Straight Line Method indicates that T is',T*60*24,'ft^2/day and S is',S,'.')"
      ],
      "execution_count": 0,
      "outputs": [
        {
          "output_type": "stream",
          "text": [
            "-0.22616123157989565\n",
            "0.4611271782040228\n",
            "The Jacob Straight Line Method indicates that T is 2.1297770700636938 ft^2/min and S is 0.016505772292993628 .\n",
            "The Jacob Straight Line Method indicates that T is 3066.878980891719 ft^2/day and S is 0.016505772292993628 .\n"
          ],
          "name": "stdout"
        },
        {
          "output_type": "display_data",
          "data": {
            "image/png": "[encoded data removed]",
            "text/plain": [
              "<Figure size 432x288 with 1 Axes>"
            ]
          },
          "metadata": {
            "tags": []
          }
        }
      ]
    },
    {
      "cell_type": "markdown",
      "metadata": {
        "collapsed": false,
        "id": "4rNDpWJQTw_K",
        "colab_type": "text"
      },
      "source": [
        "## <center>Part V: Theis Curve Fitting"
      ]
    },
    {
      "cell_type": "code",
      "metadata": {
        "id": "5e78heJFTw_L",
        "colab_type": "code",
        "colab": {}
      },
      "source": [
        ""
      ],
      "execution_count": 0,
      "outputs": []
    },
    {
      "cell_type": "code",
      "metadata": {
        "id": "L_oAM016Tw_M",
        "colab_type": "code",
        "outputId": "b01ecf35-65de-4984-d0e5-a092196e5636",
        "colab": {
          "base_uri": "https://localhost:8080/",
          "height": 286
        }
      },
      "source": [
        "time = df_dd.index[4:-4]\n",
        "dd = df_dd.dtw[4:-4]\n",
        "\n",
        "def theis(t, S, T):\n",
        "    return -5.35/(4*3.14*T)*sps.expi(30**2*S/(4*T*t))\n",
        "\n",
        "# curve_fit(user defined equation, x variable, y variable, convergence criteria)\n",
        "# popt is an array with the first value being the y-intersect and the second value being the slope of the line\n",
        "# pcov is the covariance of popt. We will not be using that.\n",
        "popt, pcov = spo.curve_fit(theis, time, dd, p0=(0.0000000000000000000001, 0.0000000000000001))\n",
        "\n",
        "dd_model = -5.35/(4*3.14*popt[1])*sps.expi(30*30*popt[0]/(4*popt[1]*time))\n",
        "plt.semilogx(time,dd,'o')\n",
        "plt.plot(time,dd_model)\n",
        "\n",
        "print(popt)"
      ],
      "execution_count": 0,
      "outputs": [
        {
          "output_type": "stream",
          "text": [
            "[0.01328024 2.40073433]\n"
          ],
          "name": "stdout"
        },
        {
          "output_type": "display_data",
          "data": {
            "image/png": "[encoded data removed]",
            "text/plain": [
              "<Figure size 432x288 with 1 Axes>"
            ]
          },
          "metadata": {
            "tags": []
          }
        }
      ]
    },
    {
      "cell_type": "code",
      "metadata": {
        "id": "z55hZua1Tw_O",
        "colab_type": "code",
        "outputId": "ca58629d-80d3-4cb9-c685-3be5e34031de",
        "colab": {
          "base_uri": "https://localhost:8080/",
          "height": 50
        }
      },
      "source": [
        "# do not print T or S beyond three significant figures\n",
        "print('The Jacob Straight Line Method indicates that T is',popt[1],'ft^2/min and S is',popt[0],'.')\n",
        "print('The Jacob Straight Line Method indicates that T is',popt[1]*60*24,'ft^2/day and S is',popt[0],'.')"
      ],
      "execution_count": 0,
      "outputs": [
        {
          "output_type": "stream",
          "text": [
            "The Jacob Straight Line Method indicates that T is 2.400734333580618 ft^2/min and S is 0.013280240366508217 .\n",
            "The Jacob Straight Line Method indicates that T is 3457.0574403560904 ft^2/day and S is 0.013280240366508217 .\n"
          ],
          "name": "stdout"
        }
      ]
    },
    {
      "cell_type": "markdown",
      "metadata": {
        "collapsed": false,
        "id": "esCcclyETw_R",
        "colab_type": "text"
      },
      "source": [
        "## <center>Part VI: Hydraulic Conductivity and Specific Storage"
      ]
    },
    {
      "cell_type": "code",
      "metadata": {
        "id": "vsw0TNA2Tw_R",
        "colab_type": "code",
        "outputId": "1230bf4e-bf05-4c42-9347-3fae45d0f635",
        "colab": {
          "base_uri": "https://localhost:8080/",
          "height": 50
        }
      },
      "source": [
        "H = 45\n",
        "kfm = popt[1]/H\n",
        "kfd = popt[1]*60*24/H\n",
        "print('k ft/min =',kfm)\n",
        "print('k ft/day =',kfd)"
      ],
      "execution_count": 0,
      "outputs": [
        {
          "output_type": "stream",
          "text": [
            "k ft/min = 0.05334965185734707\n",
            "k ft/day = 76.82349867457978\n"
          ],
          "name": "stdout"
        }
      ]
    },
    {
      "cell_type": "code",
      "metadata": {
        "id": "pzeXt4BJTw_T",
        "colab_type": "code",
        "outputId": "c9fbaeb9-bed0-4770-ae0b-079718ceca43",
        "colab": {
          "base_uri": "https://localhost:8080/",
          "height": 34
        }
      },
      "source": [
        "ss = popt[0]/H\n",
        "print('ss 1/ft =',ss)"
      ],
      "execution_count": 0,
      "outputs": [
        {
          "output_type": "stream",
          "text": [
            "ss 1/ft = 0.00029511645258907147\n"
          ],
          "name": "stdout"
        }
      ]
    }
  ]
}