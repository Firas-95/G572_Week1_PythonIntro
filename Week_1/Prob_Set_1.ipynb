{
 "cells": [
  {
   "cell_type": "markdown",
   "metadata": {},
   "source": [
    "<a id='Top'></a>\n",
    "# <b><center>Problem Set 1: Python Introduction</center></b>\n",
    "<font size = 6><center>Due January 29th at 11:59 pm</center></font>\n",
    "\n",
    "<font size = 4><center>Before working on this notebook, I recommend creating a file called \"Working Problem Set 1\". When the file is ready to grade, make a copy and rename that copy \"Final Problem Set 1\".</center></font>\n",
    "\n",
    "<font size = 4><center>Make sure that \"Final Problem Set 1\" resides in the same folder that the problem set was originally assigned.</center></font>"
   ]
  },
  {
   "cell_type": "markdown",
   "metadata": {},
   "source": [
    "## <center><font color='blue'>Problem 1</font></center>"
   ]
  },
  {
   "cell_type": "markdown",
   "metadata": {},
   "source": [
    "\n",
    "Evaluate the following expressions for $x = 2\\pi$:\n",
    "<ul>\n",
    "    <li>$y = e^x$</li>\n",
    "    <li>$y = cos(x)$</li>\n",
    "    <li>$y = ln(x)$ <b>(Note: natural log)</b></li>\n",
    "    <li>$y = log(x)$ <b>(Note: log base 10)</b></li>\n",
    "    <li>$y = \\sqrt x$</li>\n",
    "    <li>$y = x^3$</li>\n",
    "    \n",
    "</ul>\n",
    "\n",
    "Use the six Code cells below with the corresponding comment:"
   ]
  },
  {
   "cell_type": "code",
   "execution_count": null,
   "metadata": {},
   "outputs": [],
   "source": [
    "# y = e^x"
   ]
  },
  {
   "cell_type": "code",
   "execution_count": null,
   "metadata": {},
   "outputs": [],
   "source": [
    "# y = cos(x)"
   ]
  },
  {
   "cell_type": "code",
   "execution_count": null,
   "metadata": {},
   "outputs": [],
   "source": [
    "# y = ln(x)"
   ]
  },
  {
   "cell_type": "code",
   "execution_count": null,
   "metadata": {},
   "outputs": [],
   "source": [
    "# y = log(x)"
   ]
  },
  {
   "cell_type": "code",
   "execution_count": null,
   "metadata": {},
   "outputs": [],
   "source": [
    "# y = sqrt(x)"
   ]
  },
  {
   "cell_type": "code",
   "execution_count": null,
   "metadata": {},
   "outputs": [],
   "source": [
    "# y = x^3"
   ]
  },
  {
   "cell_type": "markdown",
   "metadata": {},
   "source": [
    "<a href='#Top'>Return to top</a>"
   ]
  },
  {
   "cell_type": "markdown",
   "metadata": {},
   "source": [
    "## <center><font color='blue'>Problem 2</font></center>"
   ]
  },
  {
   "cell_type": "markdown",
   "metadata": {},
   "source": [
    "Fibonacci Numbers form a sequence such that each number is the sum of the previous two. The sequence goes as follows:\n",
    "\n",
    "0, 1, 1, 2, 3, 5, 8, 13, 21, 34, 55, ......\n",
    "\n",
    "https://en.wikipedia.org/wiki/Fibonacci_number\n",
    "\n",
    "In the following code block, assign the first two values in the Fibonacci Sequence, x = 0 and y = 1. Write a <b>while loop</b> that prints the rest of the Fibonacci Numbers in this sequence that are less than 10,000."
   ]
  },
  {
   "cell_type": "code",
   "execution_count": 4,
   "metadata": {},
   "outputs": [],
   "source": [
    "# Write a while loop in this cell"
   ]
  },
  {
   "cell_type": "markdown",
   "metadata": {},
   "source": [
    "<a href='#Top'>Return to top</a>"
   ]
  },
  {
   "cell_type": "markdown",
   "metadata": {},
   "source": [
    "## <center><font color = \"blue\">Problem 3</font></center>"
   ]
  },
  {
   "cell_type": "markdown",
   "metadata": {},
   "source": [
    "\n",
    "Correct the code/markdown in the following cells based on the comment in each cell. "
   ]
  },
  {
   "cell_type": "code",
   "execution_count": null,
   "metadata": {},
   "outputs": [],
   "source": [
    "# This code attempts to run a for loop that counts from 1 to 10\n",
    "for x in 11:\n",
    "print(x)"
   ]
  },
  {
   "cell_type": "code",
   "execution_count": null,
   "metadata": {},
   "outputs": [],
   "source": [
    "# One groundwater modeling approximation, Dupuit-Forchheimer, is based on a mathematical trick that takes advantage of the fact that infinity times zero can equal anything. The following code attempts to determine what that product is, but something is wrong. Fix the code.\n",
    "# Hint: The answer should be \"nan\", which in Python means \"not a number\". We will talk more about nan's later in the semester.\n",
    "# Hint: Look through the documentation for the Math module.\n",
    "x = inf*0\n",
    "print(x)"
   ]
  },
  {
   "cell_type": "code",
   "execution_count": null,
   "metadata": {},
   "outputs": [],
   "source": [
    "# The following code attempts to calculate the cosine starting at 0 and ending at 360 degrees, in increments of sixty degrees.\n",
    "# Hint: The first and last output in the loop should be 1.0 , and there should be a total of 7 outputs in the loop.    \n",
    "for x in range(0,360,60)\n",
    "   y = cos(x)\n",
    "    print(x)"
   ]
  },
  {
   "cell_type": "markdown",
   "metadata": {},
   "source": [
    "<a href='#Top'>Return to top</a>"
   ]
  },
  {
   "cell_type": "markdown",
   "metadata": {},
   "source": [
    "## <center><font color = \"blue\">Problem 4</font></center>"
   ]
  },
  {
   "cell_type": "markdown",
   "metadata": {},
   "source": [
    "\n",
    "A sand aquifer extends under Champaign-Urbana:\n",
    "<ul>\n",
    "    <li>$k = 0.001$ $cm/s$</li>\n",
    "    <li>$n = 0.2$</li>\n",
    "    <li>$h1 = 205$ $m$</li>\n",
    "    <li>$h2 = 210$ $m$</li>\n",
    "    <li>$\\Delta l = 1$ $km$</li>\n",
    "</ul>\n",
    "\n",
    "Where k is the hydraulic conductivity, n is the porosity, h1 and h2 are the heads at a distance of $\\Delta l$ apart.\n",
    "\n",
    "Write codes that calculate: 1) the hydraulic gradient, 2) specific discharge, 3) groundwater velocity, and 4) transit time of groundwater over the distance $\\Delta l$. Use the four Code Cells below."
   ]
  },
  {
   "cell_type": "code",
   "execution_count": null,
   "metadata": {},
   "outputs": [],
   "source": [
    "# hydraulic gradient (no units)\n"
   ]
  },
  {
   "cell_type": "code",
   "execution_count": null,
   "metadata": {
    "scrolled": true
   },
   "outputs": [],
   "source": [
    "# specific discharge (m/day)\n"
   ]
  },
  {
   "cell_type": "code",
   "execution_count": null,
   "metadata": {},
   "outputs": [],
   "source": [
    "# groundwater velocity (m/day)\n"
   ]
  },
  {
   "cell_type": "code",
   "execution_count": null,
   "metadata": {},
   "outputs": [],
   "source": [
    "# transit time (years)\n"
   ]
  },
  {
   "cell_type": "markdown",
   "metadata": {},
   "source": [
    "<a href='#Top'>Return to top</a>"
   ]
  }
 ],
 "metadata": {
  "kernelspec": {
   "display_name": "Python 3",
   "language": "python",
   "name": "python3"
  },
  "language_info": {
   "codemirror_mode": {
    "name": "ipython",
    "version": 3
   },
   "file_extension": ".py",
   "mimetype": "text/x-python",
   "name": "python",
   "nbconvert_exporter": "python",
   "pygments_lexer": "ipython3",
   "version": "3.7.4"
  }
 },
 "nbformat": 4,
 "nbformat_minor": 1
}
